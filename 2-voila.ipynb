{
 "cells": [
  {
   "cell_type": "markdown",
   "metadata": {},
   "source": [
    "## 4. Voilà Dashboards\n",
    "\n",
    "> Voilà turns Jupyter notebooks into standalone web applications.\n",
    "> \n",
    "> Unlike the usual HTML-converted notebooks, each user connecting to the Voilà tornado application gets a dedicated Jupyter kernel which can execute the callbacks to changes in Jupyter interactive widgets.\n",
    "\n",
    "- The [intro blog](https://blog.jupyter.org/and-voil%C3%A0-f6a2c08a4a93) provides an overview and resources for getting up and running with Voilà\n",
    "- The [Voilà gallery](https://voila-gallery.org/) has a collection of examples built with Voilà and Jupyter widgets. \n",
    "\n",
    "\n",
    "#### running voila ([docs](https://voila.readthedocs.io/en/stable/using.html#using-voila)):\n",
    "- you can run Voilà as a standalone server \n",
    "  \n",
    "  ```\n",
    "  voila notebook.ipynb\n",
    "  ```\n",
    "  \n",
    "  \n",
    "- or as a server extention by changing the url to `<url-of-my-server>/voila` (e.g. if you launched `jupyter lab` locally, and it was running at `http://localhost:8888/lab`, then then Voilà would be accessed at `http://localhost:8888/voila`.\n",
    "\n",
    "\n",
    "- there is also a JupyterLab extention for previewing your dashboard\n",
    "   \n",
    "   ```\n",
    "   jupyter labextension install @jupyter-voila/jupyterlab-preview\n",
    "   ```\n",
    "\n",
    "- by default, Voilà will strip out the source code from view. It can be displayed if the option `strip_sources` is set to False"
   ]
  },
  {
   "cell_type": "code",
   "execution_count": null,
   "metadata": {},
   "outputs": [],
   "source": []
  }
 ],
 "metadata": {
  "kernelspec": {
   "display_name": "Python 3",
   "language": "python",
   "name": "python3"
  },
  "language_info": {
   "codemirror_mode": {
    "name": "ipython",
    "version": 3
   },
   "file_extension": ".py",
   "mimetype": "text/x-python",
   "name": "python",
   "nbconvert_exporter": "python",
   "pygments_lexer": "ipython3",
   "version": "3.8.5"
  }
 },
 "nbformat": 4,
 "nbformat_minor": 4
}
