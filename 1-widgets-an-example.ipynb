{
 "cells": [
  {
   "cell_type": "markdown",
   "metadata": {},
   "source": [
    "# \tInteractive exploration with widgets and dashboards\n",
    "\n",
    "Here, we will use a motivating example that looks at CO$_2$ data to demonstrate linear regression to introduce:\n",
    "- [Jupyter Widgets](https://ipywidgets.readthedocs.io/en/latest/index.html) and \n",
    "- [Voilà dashboards](https://voila.readthedocs.io/en/latest/?badge=latest)\n",
    "\n",
    "The example we follow is adapted from the [Intro-Jupyter tutorial from ICESat-2Hackweek](https://github.com/ICESAT-2HackWeek/intro-jupyter), which has contributions from: [Shane Grigsby (@espg)](https://github.com/espg), [Lindsey Heagy (@lheagy)](https://github.com/lheagy), [Yara Mohajerani (@yaramohajerani)](https://github.com/yaramohajerani), and [Fernando Pérez (@fperez)](https://github.com/fperez). "
   ]
  },
  {
   "cell_type": "markdown",
   "metadata": {},
   "source": [
    "# Motivating example: CO$_2$ at Mauna Loa\n",
    "\n",
    "> _The climate emergency is one of the most pressing issues of our time. At this pivotal moment, the decisions and actions we take today will reverberate beyond our own borders and lifetimes._ -- [UBC Climate Emergency Engagement](https://climateemergency.ubc.ca/)\n",
    "\n",
    "Carbon Dioxide (CO2) is a greenhouse gas, and significant contributor to the warming of the climate. It is an important input into climate models, which we use to make predictions about possible future climate scenarios, and sometimes to make policy decisions, including carbon taxes. \n",
    "\n",
    "**Question:** Based on historical CO$_2$ data, can we estimate what CO$_2$ concentrations will be in the future? \n",
    "\n",
    "\n",
    "### Learning Goals\n",
    "- explore the idea of \"learning\": building a model from data that lets us make predictions \n",
    "- discuss the limitations of models\n",
    "- provide motivation for linear regression, a simple, but powerful method for estimating a linear model of data\n",
    "\n",
    "### Context\n",
    "\n",
    "Scripps institute of Oceanography has a research station at Mauna Loa in Hawaii where they have been measuring atmospheric CO2 since 1958. The data we will focus on are the seasonally adjusted data. \n",
    "\n",
    "<img src=\"https://scrippsco2.ucsd.edu/assets/images/mlo_station_map.png\" align=\"center\">\n",
    "\n",
    "**Data Source**\n",
    "\n",
    "C. D. Keeling, S. C. Piper, R. B. Bacastow, M. Wahlen, T. P. Whorf, M. Heimann, and  H. A. Meijer, Exchanges of atmospheric CO2 and 13CO2 with the terrestrial biosphere and  oceans from 1978 to 2000.  I. Global aspects, SIO Reference Series, No. 01-06, Scripps  Institution of Oceanography, San Diego, 88 pages, 2001. https://scrippsco2.ucsd.edu/data/atmospheric_co2/primary_mlo_co2_record.html     "
   ]
  },
  {
   "cell_type": "code",
   "execution_count": 1,
   "metadata": {},
   "outputs": [],
   "source": [
    "import matplotlib.pyplot as plt\n",
    "import numpy as np\n",
    "import pandas as pd"
   ]
  },
  {
   "cell_type": "code",
   "execution_count": 2,
   "metadata": {},
   "outputs": [],
   "source": [
    "from matplotlib import rcParams\n",
    "rcParams[\"font.size\"] = 14"
   ]
  },
  {
   "cell_type": "markdown",
   "metadata": {},
   "source": [
    "## Load, clean and plot the data\n",
    "\n",
    "We first do some light cleaning to remove rows with missing data, and then plot up our data set. We will work with the seasonally adjusted data. For a description of the data types we can consider, please see the [description from Scripps](https://scrippsco2.ucsd.edu/data/atmospheric_co2/primary_mlo_co2_record.html). "
   ]
  },
  {
   "cell_type": "code",
   "execution_count": 3,
   "metadata": {},
   "outputs": [],
   "source": [
    "co2_data_source = \"./data/monthly_in_situ_co2_mlo.csv\"\n",
    "co2_data_full = pd.read_csv(\n",
    "    co2_data_source, skiprows=np.arange(0, 56), na_values=\"-99.99\"\n",
    ")\n",
    "\n",
    "co2_data_full.columns = [\n",
    "    \"year\", \"month\", \"date (int)\", \"date\", \"co2\", \"seasonally adjusted\",\n",
    "    \"fit\", \"seasonally adjusted fit\", \"co2 filled\", \"seasonally adjusted filled\" \n",
    "]\n",
    "\n",
    "co2_data = co2_data_full.dropna()"
   ]
  },
  {
   "cell_type": "code",
   "execution_count": 4,
   "metadata": {},
   "outputs": [],
   "source": [
    "def get_data_between(data=co2_data, date_range=None, data_type=\"seasonally adjusted\"):\n",
    "    \"\"\"\n",
    "    A function to fetch data between year_min and year_max  \n",
    "    \"\"\"\n",
    "    if date_range is None:\n",
    "        date_range = data[\"date\"].min(), data[\"date\"].max()\n",
    "\n",
    "    # find the data between the minimimum and maximum years\n",
    "    indices = (data[\"date\"] >= date_range[0]) & (data[\"date\"] <= date_range[1]) \n",
    "    return data[\"date\"][indices], data[data_type][indices]"
   ]
  },
  {
   "cell_type": "code",
   "execution_count": 5,
   "metadata": {},
   "outputs": [],
   "source": [
    "def plot_co2_data(data=co2_data, date_range=None, data_type=\"seasonally adjusted\", ax=None):\n",
    "    \"\"\"\n",
    "    A function that we can use to plot data between year_min and year_max\n",
    "    \"\"\"\n",
    "    \n",
    "    # create a figure if one isn't supplied\n",
    "    if ax is None:\n",
    "        fig, ax = plt.subplots(1, 1, figsize=(8, 5))\n",
    "        \n",
    "    dates, data_between = get_data_between(data, date_range, data_type)\n",
    "        \n",
    "    # plot data\n",
    "    ax.plot(dates, data_between, '.',  ms=8)\n",
    "    ax.grid()\n",
    "    ax.set_xlabel(f\"Year\")\n",
    "    ax.set_ylabel(f\"CO$_2$ [ppm]\")\n",
    "    \n",
    "    return ax"
   ]
  },
  {
   "cell_type": "code",
   "execution_count": 6,
   "metadata": {},
   "outputs": [
    {
     "data": {
      "image/png": "[encoded data removed]",
      "text/plain": [
       "<Figure size 576x360 with 1 Axes>"
      ]
     },
     "metadata": {
      "needs_background": "light"
     },
     "output_type": "display_data"
    }
   ],
   "source": [
    "plot_co2_data(co2_data); # ,[1958, 1963])"
   ]
  },
  {
   "cell_type": "markdown",
   "metadata": {},
   "source": [
    "## Building models from data: \n",
    "\n",
    "### Part 1: Focus on the first 5 years\n",
    "\n",
    "**Question:** If the trend between 1958 and 1963 continues, what would we expect the CO$_2$ concentration to be in January, 2030?  \n",
    "\n",
    "#### Approach - The \"eyeball\" norm - with widgets!\n",
    "\n",
    "- using the widgets below, estimate a slope and intercept of a line that fits the data\n",
    "- the `slope` indicates the rate of CO$_2$ accumulation per year\n",
    "- the `intercept` is the estimated concentration of CO$_2$ at the first point we consider"
   ]
  },
  {
   "cell_type": "code",
   "execution_count": 7,
   "metadata": {},
   "outputs": [],
   "source": [
    "import ipywidgets as widgets"
   ]
  },
  {
   "cell_type": "code",
   "execution_count": 8,
   "metadata": {},
   "outputs": [],
   "source": [
    "def add_line(dates, slope, intercept, ax=None, label=None):\n",
    "    \"\"\"\n",
    "    A function to add a line to a plot\n",
    "    \"\"\"    \n",
    "    # create a figure if one isn't supplied\n",
    "    if ax is None:\n",
    "        fig, ax = plt.subplots(1, 1, figsize=(8, 5))\n",
    "    \n",
    "    y = slope * (dates - dates.min()) + intercept\n",
    "    ax.plot(dates, y, label=label)"
   ]
  },
  {
   "cell_type": "code",
   "execution_count": 9,
   "metadata": {},
   "outputs": [],
   "source": [
    "def plot_fit_co2_data(slope, intercept, year_min=1958, year_max=2020, data_type=\"seasonally adjusted\"):\n",
    "    \"\"\"\n",
    "    This function creates an interactive widget where we can fit a curve to data\n",
    "    \"\"\"\n",
    "    fig, ax = plt.subplots(1, 1, figsize=(8, 5))\n",
    "    plot_co2_data(co2_data, [year_min, year_max], data_type, ax=ax)\n",
    "    add_line(np.r_[year_min, year_max], slope, intercept, ax=ax)\n",
    "    return ax"
   ]
  },
  {
   "cell_type": "code",
   "execution_count": 10,
   "metadata": {},
   "outputs": [
    {
     "data": {
      "application/vnd.jupyter.widget-view+json": {
       "model_id": "d317401ebffe4661b4541021d4842667",
       "version_major": 2,
       "version_minor": 0
      },
      "text/plain": [
       "interactive(children=(FloatSlider(value=2.0, description='slope', max=5.0), FloatSlider(value=309.44, descript…"
      ]
     },
     "metadata": {},
     "output_type": "display_data"
    }
   ],
   "source": [
    "year_min_early = 1958\n",
    "year_max_early = 1963\n",
    "\n",
    "w_co2_early = widgets.interactive(\n",
    "    plot_fit_co2_data, \n",
    "    slope=widgets.FloatSlider(\n",
    "        min=0, max=5, step=0.1, value=2\n",
    "    ),\n",
    "    intercept=widgets.FloatSlider(\n",
    "        min=co2_data[\"seasonally adjusted\"].min()-5, \n",
    "        max=co2_data[\"seasonally adjusted\"].min()+5, \n",
    "        step=0.25\n",
    "    ),\n",
    "    year_min=widgets.fixed(year_min_early),\n",
    "    year_max=widgets.fixed(year_max_early),\n",
    "    data_type=widgets.fixed(\"seasonally adjusted\")\n",
    ")\n",
    "w_co2_early"
   ]
  },
  {
   "cell_type": "markdown",
   "metadata": {},
   "source": [
    "### Make a prediction \n",
    "\n",
    "Based on your estimated slope and intercept values: what do you estimate the CO$_2$ concentration would be in 2030? "
   ]
  },
  {
   "cell_type": "code",
   "execution_count": 11,
   "metadata": {},
   "outputs": [],
   "source": [
    "def predict_co2(slope, intercept, initial_date, prediction_date):\n",
    "    \"\"\"\n",
    "    based on an estimated slope, and intercept use a linear \n",
    "    model to predict CO2 concentration\n",
    "    \"\"\"\n",
    "    return slope * (prediction_date-initial_date) + intercept"
   ]
  },
  {
   "cell_type": "code",
   "execution_count": 12,
   "metadata": {},
   "outputs": [
    {
     "name": "stdout",
     "output_type": "stream",
     "text": [
      "Predicted CO2 in 2030: 453.44 ppm\n"
     ]
    }
   ],
   "source": [
    "year_predict = 2030\n",
    "\n",
    "predicted_co2_early = predict_co2(\n",
    "    w_co2_early.kwargs[\"slope\"], w_co2_early.kwargs[\"intercept\"], \n",
    "    year_min_early, year_predict\n",
    ")\n",
    "\n",
    "print(\n",
    "    f\"Predicted CO2 in {year_predict}: {predicted_co2_early:1.2f} ppm\"\n",
    ")\n"
   ]
  },
  {
   "cell_type": "markdown",
   "metadata": {},
   "source": [
    "### Part 2: Focus on the most recent 5 years\n",
    "\n",
    "**Question:** If the trend between 2015 and 2020 continues, what would we expect the CO$_2$ concentration to be in January, 2030?  "
   ]
  },
  {
   "cell_type": "code",
   "execution_count": 13,
   "metadata": {},
   "outputs": [
    {
     "data": {
      "application/vnd.jupyter.widget-view+json": {
       "model_id": "f43bc25c477b40d5974919752d11409b",
       "version_major": 2,
       "version_minor": 0
      },
      "text/plain": [
       "interactive(children=(FloatSlider(value=2.0, description='slope', max=5.0), FloatSlider(value=393.35, descript…"
      ]
     },
     "metadata": {},
     "output_type": "display_data"
    }
   ],
   "source": [
    "year_min_recent = 2015\n",
    "year_max_recent = 2020\n",
    "\n",
    "w_co2_recent = widgets.interactive(\n",
    "    plot_fit_co2_data, \n",
    "    slope=widgets.FloatSlider(\n",
    "        min=0, max=5, step=0.1, value=2\n",
    "    ),\n",
    "    intercept=widgets.FloatSlider(\n",
    "        min=co2_data[\"seasonally adjusted\"].max()-20, \n",
    "        max=co2_data[\"seasonally adjusted\"].max(), \n",
    "        step=0.25\n",
    "    ),\n",
    "    year_min=widgets.fixed(year_min_recent),\n",
    "    year_max=widgets.fixed(year_max_recent),\n",
    "    data_type=widgets.fixed(\"seasonally adjusted\")\n",
    ")\n",
    "w_co2_recent"
   ]
  },
  {
   "cell_type": "code",
   "execution_count": 14,
   "metadata": {},
   "outputs": [
    {
     "name": "stdout",
     "output_type": "stream",
     "text": [
      "Predicted CO2 in 2030: 423.35 ppm\n"
     ]
    }
   ],
   "source": [
    "predicted_co2_recent = predict_co2(\n",
    "    w_co2_recent.kwargs[\"slope\"], w_co2_recent.kwargs[\"intercept\"], \n",
    "    year_min_recent, year_predict\n",
    ")\n",
    "\n",
    "print(\n",
    "    f\"Predicted CO2 in {year_predict}: {predicted_co2_recent:1.2f} ppm\"\n",
    ")\n"
   ]
  },
  {
   "cell_type": "code",
   "execution_count": 15,
   "metadata": {},
   "outputs": [
    {
     "name": "stdout",
     "output_type": "stream",
     "text": [
      "Predicted CO2 in 2030 using data from: \n",
      "  1958 - 1963: 453.44 ppm, with a slope of 2.00 ppm/year \n",
      "  2015 - 2020: 423.35 ppm, with a slope of 2.00 ppm/year \n",
      "\n"
     ]
    }
   ],
   "source": [
    "print(\n",
    "    f\"Predicted CO2 in {year_predict} using data from: \\n\"\n",
    "    f\"  {year_min_early} - {year_max_early}: {predicted_co2_early:1.2f} ppm,\"\n",
    "    f\" with a slope of {w_co2_early.kwargs['slope']:1.2f} ppm/year \\n\"\n",
    "    f\"  {year_min_recent} - {year_max_recent}: {predicted_co2_recent:1.2f} ppm,\"\n",
    "    f\" with a slope of {w_co2_recent.kwargs['slope']:1.2f} ppm/year \\n\"\n",
    ")"
   ]
  },
  {
   "cell_type": "markdown",
   "metadata": {},
   "source": [
    "## before looking at the next plot(!)\n",
    "\n",
    "Why are these so different? "
   ]
  },
  {
   "cell_type": "code",
   "execution_count": 16,
   "metadata": {},
   "outputs": [
    {
     "data": {
      "image/png": "[encoded data removed]",
      "text/plain": [
       "<Figure size 576x360 with 1 Axes>"
      ]
     },
     "metadata": {
      "needs_background": "light"
     },
     "output_type": "display_data"
    }
   ],
   "source": [
    "def plot_predictions(xlim=None, ylim=None):\n",
    "    ax = plot_co2_data()\n",
    "\n",
    "    # add predictions\n",
    "    add_line(\n",
    "        co2_data[\"date\"], w_co2_early.kwargs[\"slope\"], w_co2_early.kwargs[\"intercept\"],\n",
    "        label = f\"{year_min_early} - {year_max_early} prediction\", ax=ax\n",
    "    )\n",
    "\n",
    "    add_line(\n",
    "        co2_data[\"date\"], w_co2_recent.kwargs[\"slope\"], \n",
    "        w_co2_recent.kwargs[\"intercept\"] - (year_min_recent-co2_data[\"date\"].min())*w_co2_recent.kwargs[\"slope\"], # adjust the intercept to use 1958\n",
    "        label = f\"{year_min_recent} - {year_max_recent} prediction\", ax=ax\n",
    "    ) \n",
    "\n",
    "    # add our predictions \n",
    "    ax.plot(year_predict, predicted_co2_early, 'C1o')\n",
    "    ax.text(\n",
    "        year_predict - 1, predicted_co2_early, \n",
    "        f\"{predicted_co2_early:1.2f} ppm\", ha=\"right\", va=\"center\"\n",
    "    )\n",
    "\n",
    "    ax.plot(\n",
    "        year_predict, predicted_co2_recent, 'C2o'\n",
    "    )\n",
    "    ax.text(\n",
    "        year_predict - 1, predicted_co2_recent, \n",
    "        f\"{predicted_co2_recent:1.2f} ppm\", ha=\"right\", va=\"center\"\n",
    "    )\n",
    "plot_predictions()"
   ]
  },
  {
   "cell_type": "markdown",
   "metadata": {},
   "source": [
    "## Discussion:\n",
    "\n",
    "**Q1:** Within small enough regions, the data follow an approximately linear trend, so a linear model has some predictive power. In the following cell, we have a widget where you can zoom in on the plot. \n",
    "- Out to which year would you trust the model built with the data from 1958 - 1963? \n",
    "- Where does it start to break down?\n",
    "\n",
    "**Q2:** How far out would you trust our predictions with data from 2015 - 2020? Would you trust our model to predict CO$_2$ in the year 2050? \n",
    "\n",
    "**Q3:** How might you approach building a model to fit all of our data? \n",
    "\n"
   ]
  },
  {
   "cell_type": "code",
   "execution_count": 17,
   "metadata": {},
   "outputs": [
    {
     "data": {
      "application/vnd.jupyter.widget-view+json": {
       "model_id": "415f306cc3e3482eb25c92aaf951defd",
       "version_major": 2,
       "version_minor": 0
      },
      "text/plain": [
       "interactive(children=(IntRangeSlider(value=(1958, 2031), continuous_update=False, description='xlim', max=2031…"
      ]
     },
     "metadata": {},
     "output_type": "display_data"
    }
   ],
   "source": [
    "widgets.interactive(\n",
    "    plot_predictions, \n",
    "    xlim=widgets.IntRangeSlider(\n",
    "        min=co2_data[\"date\"].min(), max=year_predict+1, \n",
    "        value=[int(co2_data[\"date\"].min()), year_predict+1], \n",
    "        continuous_update=False\n",
    "    ),\n",
    "    ylim=widgets.IntRangeSlider(\n",
    "        min=300, max=420, value=[300, 420],  continuous_update=False\n",
    "    ),\n",
    "   \n",
    ")"
   ]
  },
  {
   "cell_type": "markdown",
   "metadata": {},
   "source": [
    "# Explore further: \n",
    "\n",
    "Try expanding the number of years included in each analysis. How many years does it take before a linear model is no longer appropriate?  "
   ]
  }
 ],
 "metadata": {
  "kernelspec": {
   "display_name": "Python 3",
   "language": "python",
   "name": "python3"
  },
  "language_info": {
   "codemirror_mode": {
    "name": "ipython",
    "version": 3
   },
   "file_extension": ".py",
   "mimetype": "text/x-python",
   "name": "python",
   "nbconvert_exporter": "python",
   "pygments_lexer": "ipython3",
   "version": "3.8.5"
  }
 },
 "nbformat": 4,
 "nbformat_minor": 4
}
